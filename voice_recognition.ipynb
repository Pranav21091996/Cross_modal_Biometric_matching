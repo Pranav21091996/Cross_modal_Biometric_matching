{
 "cells": [
  {
   "cell_type": "code",
   "execution_count": null,
   "metadata": {
    "colab": {},
    "colab_type": "code",
    "id": "7bPqAEkeBOV1"
   },
   "outputs": [],
   "source": [
    "from sklearn.model_selection import train_test_split\n",
    "import numpy as np\n",
    "tr_features = np.load('train_voice_input.npy')\n",
    "tr_labels = np.load('train_voice_label.npy')\n",
    "ts_features = np.load('test_voice_input.npy')\n",
    "ts_labels = np.load('test_voice_labels.npy')"
   ]
  },
  {
   "cell_type": "code",
   "execution_count": null,
   "metadata": {
    "colab": {
     "base_uri": "https://localhost:8080/",
     "height": 34
    },
    "colab_type": "code",
    "id": "MNx4iarcBcJa",
    "outputId": "a3285b92-7c47-4294-f571-3f6f2948deb8"
   },
   "outputs": [],
   "source": [
    "import numpy as np\n",
    "from keras.models import Sequential\n",
    "from keras.layers import Dense, Dropout, Activation, Flatten\n",
    "from keras.layers import Convolution2D, MaxPooling2D\n",
    "from keras.optimizers import SGD,Adam\n",
    "from keras.regularizers import l2\n",
    "from keras.utils import np_utils\n",
    "from keras.callbacks import EarlyStopping\n",
    "from sklearn import metrics"
   ]
  },
  {
   "cell_type": "code",
   "execution_count": null,
   "metadata": {
    "colab": {},
    "colab_type": "code",
    "id": "CmMmUxvABzQq"
   },
   "outputs": [],
   "source": [
    "train_x = tr_features\n",
    "train_y = tr_labels\n",
    "valid_x, test_x, valid_y, test_y = train_test_split(ts_features, ts_labels, test_size=0.5, random_state=42)"
   ]
  },
  {
   "cell_type": "code",
   "execution_count": null,
   "metadata": {
    "colab": {},
    "colab_type": "code",
    "id": "kQoM5X7BB4_M"
   },
   "outputs": [],
   "source": [
    "frames = 41\n",
    "bands = 60\n",
    "num_channels = 2\n",
    "num_labels = test_y.shape[1]"
   ]
  },
  {
   "cell_type": "code",
   "execution_count": null,
   "metadata": {
    "colab": {
     "base_uri": "https://localhost:8080/",
     "height": 1329
    },
    "colab_type": "code",
    "id": "p0CgDFkTB7yt",
    "outputId": "312ef81b-8743-44be-8fc5-06945e76007c"
   },
   "outputs": [],
   "source": [
    "f_size = 3\n",
    "model = Sequential()\n",
    "\n",
    "# Layer 1 - 24 filters with a receptive field of (f,f), i.e. W has the shape (24,1,f,f). \n",
    "# This is followed by (4,2) max-pooling over the last two dimensions and a ReLU activation function.\n",
    "model.add(Convolution2D(256, f_size, f_size, border_mode='valid', input_shape=(bands, frames, num_channels)))\n",
    "model.add(MaxPooling2D(pool_size=(4, 2)))\n",
    "model.add(Activation('relu'))\n",
    "\n",
    "model.add(Convolution2D(256, f_size, f_size, border_mode='valid'))\n",
    "model.add(MaxPooling2D(pool_size=(4, 2)))\n",
    "model.add(Activation('relu'))\n",
    "\n",
    "model.add(Convolution2D(256, f_size, f_size, border_mode='valid'))\n",
    "model.add(Activation('relu'))\n",
    "\n",
    "model.add(Flatten())\n",
    "\n",
    "# Layer 4 - a fully connected NN layer of 64 hidden units, L2 penalty of 0.001\n",
    "model.add(Dense(128, W_regularizer=l2(0.001)))\n",
    "model.add(Activation('relu'))\n",
    "model.add(Dropout(0.5))\n",
    "\n",
    "model.add(Dense(128, W_regularizer=l2(0.001)))\n",
    "model.add(Activation('relu'))\n",
    "model.add(Dropout(0.5))\n",
    "\n",
    "model.add(Dense(num_labels, W_regularizer=l2(0.001)))\n",
    "model.add(Dropout(0.5))\n",
    "model.add(Activation('softmax'))\n",
    "model.summary()\n",
    "# create a SGD optimiser\n"
   ]
  },
  {
   "cell_type": "code",
   "execution_count": null,
   "metadata": {},
   "outputs": [],
   "source": [
    "\n",
    "\n",
    "\n",
    "# a stopping function should the validation loss stop improving\n",
    "earlystop = EarlyStopping(monitor='val_loss', patience=1, verbose=0, mode='auto')\n",
    "\n",
    "# compile and fit model, reduce epochs if you want a result faster\n",
    "# the validation set is used to identify parameter settings (epoch) that achieves \n",
    "# the highest classification accuracy\n",
    "model.compile(loss='categorical_crossentropy', metrics=['accuracy'], optimizer=adam)\n",
    "\n",
    "model.fit(train_x, train_y, validation_data=(valid_x, valid_y), callbacks=[earlystop], batch_size=32, nb_epoch=50)"
   ]
  },
  {
   "cell_type": "code",
   "execution_count": null,
   "metadata": {
    "colab": {
     "base_uri": "https://localhost:8080/",
     "height": 68
    },
    "colab_type": "code",
    "id": "ElXRqdzAB_A4",
    "outputId": "35bf9018-6d3e-4946-eae6-2e74ec6cbb14"
   },
   "outputs": [],
   "source": [
    "# determine the classification accuracy\n",
    "adam = Adam(lr=0.001)\n",
    "model.save('voice_model.h5')\n",
    "model.compile(loss='categorical_crossentropy', metrics=['accuracy'], optimizer=adam)"
   ]
  },
  {
   "cell_type": "code",
   "execution_count": null,
   "metadata": {},
   "outputs": [],
   "source": [
    "\n",
    "score, accuracy = model.evaluate(test_x, test_y, batch_size=32)\n",
    "print(\"\\nAccuracy = {:.2f}\".format(accuracy))\n"
   ]
  },
  {
   "cell_type": "code",
   "execution_count": null,
   "metadata": {},
   "outputs": [],
   "source": []
  }
 ],
 "metadata": {
  "accelerator": "GPU",
  "colab": {
   "name": "voice_recognition.ipynb",
   "provenance": [],
   "version": "0.3.2"
  },
  "kernelspec": {
   "display_name": "Python 3",
   "language": "python",
   "name": "python3"
  },
  "language_info": {
   "codemirror_mode": {
    "name": "ipython",
    "version": 3
   },
   "file_extension": ".py",
   "mimetype": "text/x-python",
   "name": "python",
   "nbconvert_exporter": "python",
   "pygments_lexer": "ipython3",
   "version": "3.6.6"
  }
 },
 "nbformat": 4,
 "nbformat_minor": 1
}
